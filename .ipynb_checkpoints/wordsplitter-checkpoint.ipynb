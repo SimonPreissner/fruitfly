{
 "cells": [
  {
   "cell_type": "code",
   "execution_count": null,
   "metadata": {},
   "outputs": [],
   "source": [
    "import re\n",
    "\n",
    "infile = \"/mnt/8tera/corpora/ukwac/ukwac_preproc_tokenised.txt\"\n",
    "outfile = \"data/kuwac_100m.txt\"\n",
    "\n",
    "reg = re.compile(\"_.+?\\s\")\n",
    "\n",
    "limit = 1000#00000 # 100 million\n",
    "wordcount = 0\n",
    "wordlist = []\n"
   ]
  },
  {
   "cell_type": "code",
   "execution_count": 2,
   "metadata": {},
   "outputs": [],
   "source": [
    "tokwords = \"A_DT Dash_NNP from_IN Diamond_NNP City_NNP George_NNP Manville_NNP Fenn_NNP |_NNP Next_NNP chapter_NN |_NNP |_NNP Previous_NNP chapter_NN |_NNP |_NNP Contents_NNPS |_NNP Chapter_NN XVIII_NNP ._. The_DT Ringing_VBG of_IN the_DT Shilling_NNP ._. People_NNS make_VBP their_PRP$ plans_NNS in_IN cold_JJ blood_NN and_CC forget_VB all_RB about_IN them_PRP when_WRB the_DT blood_NN grows_VBZ hot_JJ ._. It_PRP was_VBD so_RB here_RB ._. West_NNP had_VBD made_VBN up_RP his_PRP$ mind_NN what_WP to_TO do_VB while_IN cool_JJ ,_, but_CC acted_VBD just_RB in_IN the_DT fashion_NN he_PRP had_VBD cried_VBN out_RP against_IN to_IN his_PRP$ companion_NN ._. For_IN as_RB soon_RB as_IN Anson_NNP lounged_VBD up_RP to_IN them_PRP in_IN his_PRP$ supercilious_JJ jaunty_NN way_NN ,_, West_NNP 's_POS cool_JJ blood_NN warmed_VBD\""
   ]
  },
  {
   "cell_type": "code",
   "execution_count": 12,
   "metadata": {},
   "outputs": [
    {
     "ename": "MemoryError",
     "evalue": "",
     "output_type": "error",
     "traceback": [
      "\u001b[0;31m-----------------------------------------------------------------------\u001b[0m",
      "\u001b[0;31mMemoryError\u001b[0m                           Traceback (most recent call last)",
      "\u001b[0;32m<ipython-input-12-49262c40dcf8>\u001b[0m in \u001b[0;36m<module>\u001b[0;34m\u001b[0m\n\u001b[1;32m      1\u001b[0m \u001b[0;32mwith\u001b[0m \u001b[0mopen\u001b[0m\u001b[0;34m(\u001b[0m\u001b[0minfile\u001b[0m\u001b[0;34m,\u001b[0m \u001b[0;34m\"r\"\u001b[0m\u001b[0;34m)\u001b[0m \u001b[0;32mas\u001b[0m \u001b[0mf\u001b[0m\u001b[0;34m:\u001b[0m\u001b[0;34m\u001b[0m\u001b[0;34m\u001b[0m\u001b[0m\n\u001b[1;32m      2\u001b[0m     \u001b[0;31m#for chunk in iter(lambda: f.read(4096), b''):\u001b[0m\u001b[0;34m\u001b[0m\u001b[0;34m\u001b[0m\u001b[0;34m\u001b[0m\u001b[0m\n\u001b[0;32m----> 3\u001b[0;31m     \u001b[0mtext\u001b[0m \u001b[0;34m=\u001b[0m \u001b[0mf\u001b[0m\u001b[0;34m.\u001b[0m\u001b[0mread\u001b[0m\u001b[0;34m(\u001b[0m\u001b[0;34m)\u001b[0m\u001b[0;34m\u001b[0m\u001b[0;34m\u001b[0m\u001b[0m\n\u001b[0m\u001b[1;32m      4\u001b[0m     \u001b[0;32mpass\u001b[0m\u001b[0;34m\u001b[0m\u001b[0;34m\u001b[0m\u001b[0m\n\u001b[1;32m      5\u001b[0m \u001b[0;31m#tokwords[0][:5]\u001b[0m\u001b[0;34m\u001b[0m\u001b[0;34m\u001b[0m\u001b[0;34m\u001b[0m\u001b[0m\n",
      "\u001b[0;31mMemoryError\u001b[0m: "
     ]
    }
   ],
   "source": [
    "with open(infile, \"r\") as f:\n",
    "    for chunk in iter(lambda: f.read(4096), b''):\n",
    "        print(\"reading batch...\")\n",
    "        while (len(wordlist) < limit):\n",
    "            raw_words = re.sub(reg, \" \",chunk)\n",
    "            raw_lc_words = raw_words.lower()\n",
    "            words = raw_lc_words.split()\n",
    "            \n",
    "            wordlist.append(words)"
   ]
  },
  {
   "cell_type": "code",
   "execution_count": null,
   "metadata": {},
   "outputs": [],
   "source": [
    "with open(outfile, \"w\") as f:\n",
    "    for i in range(limit):\n",
    "        f.write(wordlist[i])"
   ]
  }
 ],
 "metadata": {
  "kernelspec": {
   "display_name": "Python 3",
   "language": "python",
   "name": "python3"
  },
  "language_info": {
   "codemirror_mode": {
    "name": "ipython",
    "version": 3
   },
   "file_extension": ".py",
   "mimetype": "text/x-python",
   "name": "python",
   "nbconvert_exporter": "python",
   "pygments_lexer": "ipython3",
   "version": "3.7.1"
  }
 },
 "nbformat": 4,
 "nbformat_minor": 2
}
