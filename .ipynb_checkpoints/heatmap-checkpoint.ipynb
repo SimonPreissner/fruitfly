{
 "cells": [
  {
   "cell_type": "code",
   "execution_count": 3,
   "metadata": {},
   "outputs": [],
   "source": [
    "import numpy as np\n",
    "import pandas as pd\n",
    "from pandas import DataFrame\n",
    "import seaborn as sns"
   ]
  },
  {
   "cell_type": "code",
   "execution_count": 4,
   "metadata": {},
   "outputs": [],
   "source": [
    "with open(\"log/results/KC-vs-proj-csv.txt\", \"r\") as f:\n",
    "    lines = f.readlines()\n",
    "f.close()\n",
    "#lines[:5]"
   ]
  },
  {
   "cell_type": "code",
   "execution_count": 5,
   "metadata": {},
   "outputs": [],
   "source": [
    "kcs_to_i = []\n",
    "projs_to_i = []\n",
    "for i in range(2, 21):\n",
    "    kcs_to_i.append(i*4000)\n",
    "for i in range(4, 21):\n",
    "    projs_to_i.append(i)\n",
    "\n",
    "results = np.zeros((len(kcs_to_i),len(projs_to_i)))\n",
    "\n",
    "#print(kcs_to_i)\n",
    "#print(projs_to_i)"
   ]
  },
  {
   "cell_type": "code",
   "execution_count": 6,
   "metadata": {},
   "outputs": [],
   "source": [
    "for line in lines:\n",
    "    values = line.rstrip().split(\",\")\n",
    "    kc = int(values[0])\n",
    "    proj = int(values[1])\n",
    "    res = float(values[2])\n",
    "    \n",
    "    results[kcs_to_i.index(kc)][projs_to_i.index(proj)] = res\n",
    "\n",
    "#print(results)"
   ]
  },
  {
   "cell_type": "code",
   "execution_count": 7,
   "metadata": {},
   "outputs": [
    {
     "data": {
      "text/plain": [
       "<matplotlib.axes._subplots.AxesSubplot at 0x7fc7d12ec5f8>"
      ]
     },
     "execution_count": 7,
     "metadata": {},
     "output_type": "execute_result"
    },
    {
     "data": {
      "image/png": "[encoded data removed]",
      "text/plain": [
       "<Figure size 432x288 with 2 Axes>"
      ]
     },
     "metadata": {
      "needs_background": "light"
     },
     "output_type": "display_data"
    }
   ],
   "source": [
    "df = DataFrame(data=results, index=kcs_to_i, columns=projs_to_i)\n",
    "sns.heatmap(df)"
   ]
  },
  {
   "cell_type": "code",
   "execution_count": null,
   "metadata": {},
   "outputs": [],
   "source": []
  },
  {
   "cell_type": "code",
   "execution_count": null,
   "metadata": {},
   "outputs": [],
   "source": []
  }
 ],
 "metadata": {
  "kernelspec": {
   "display_name": "Python 3",
   "language": "python",
   "name": "python3"
  },
  "language_info": {
   "codemirror_mode": {
    "name": "ipython",
    "version": 3
   },
   "file_extension": ".py",
   "mimetype": "text/x-python",
   "name": "python",
   "nbconvert_exporter": "python",
   "pygments_lexer": "ipython3",
   "version": "3.7.1"
  }
 },
 "nbformat": 4,
 "nbformat_minor": 2
}
